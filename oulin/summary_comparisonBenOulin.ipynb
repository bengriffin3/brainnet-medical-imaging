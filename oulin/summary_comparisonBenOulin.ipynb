{
 "cells": [
  {
   "cell_type": "markdown",
   "metadata": {},
   "source": [
    "I compared Ben's code with mine, and I summarize the differences in our CNN model below: \n",
    "\n",
    " || Ben's CNN | Oulin's CNN \n",
    "---|:---:|:---:\n",
    "|Total Convolution layers|4 | 2 \n",
    "| Kernel size | 5 | 3\n",
    "|1st layer features |1&rarr;16|1&rarr;16\n",
    "|2nd layer features |16&rarr;32|16&rarr;8\n",
    "|3rd layer features |32&rarr;64|\n",
    "|4th layer features |64&rarr;128|\n",
    "|Activation Function | LeakyReLu | Tanh\n",
    "|MaxPooling (halving) |Yes |Yes\n",
    "|BatchNorm|Yes|No\n",
    "|Dropout| Last linear layer | No\n",
    "|# of Parameters | 2400k | 260k\n",
    "|Optimizer | Adam + Scheduler* | SGD\n",
    "\n",
    "\\*I'm not sure what this does"
   ]
  },
  {
   "cell_type": "markdown",
   "metadata": {},
   "source": [
    "After running both on Colab, I compare the loss and accuracy below. "
   ]
  },
  {
   "cell_type": "markdown",
   "metadata": {},
   "source": [
    "![Performance Comparison](comparison.png)"
   ]
  },
  {
   "cell_type": "markdown",
   "metadata": {},
   "source": [
    "I cleaned up and retrained the model again. Now recording traiing set accuracy (on top of validaion accuracy), and produce the plots below."
   ]
  },
  {
   "cell_type": "markdown",
   "metadata": {},
   "source": [
    "![Performance Comparison](comparison2.png)"
   ]
  },
  {
   "cell_type": "markdown",
   "metadata": {},
   "source": [
    "We should perhaps discuss together in our next meeting. Furthermore, I list some additional strategies to improve the model:\n",
    "* L2 Regularization\n",
    "* Dropout in each layer to avoid memorization\n",
    "* Batch normalization at every step (Ben's model already does this)\n",
    "* Play with width / depth of the model"
   ]
  },
  {
   "cell_type": "markdown",
   "metadata": {},
   "source": []
  }
 ],
 "metadata": {
  "kernelspec": {
   "display_name": "base",
   "language": "python",
   "name": "python3"
  },
  "language_info": {
   "codemirror_mode": {
    "name": "ipython",
    "version": 3
   },
   "file_extension": ".py",
   "mimetype": "text/x-python",
   "name": "python",
   "nbconvert_exporter": "python",
   "pygments_lexer": "ipython3",
   "version": "3.10.14"
  }
 },
 "nbformat": 4,
 "nbformat_minor": 2
}
