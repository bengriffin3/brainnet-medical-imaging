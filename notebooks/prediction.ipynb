{
 "cells": [
  {
   "cell_type": "code",
   "execution_count": 1,
   "id": "284610a0",
   "metadata": {},
   "outputs": [
    {
     "name": "stdout",
     "output_type": "stream",
     "text": [
      "Using device: cpu\n"
     ]
    }
   ],
   "source": [
    "import numpy as np\n",
    "import matplotlib.pyplot as plt\n",
    "from sklearn.metrics import confusion_matrix\n",
    "import seaborn as sns\n",
    "\n",
    "import torch\n",
    "import torch.nn as nn\n",
    "\n",
    "# Set up device\n",
    "device = torch.device('cuda' if torch.cuda.is_available() else 'cpu')\n",
    "print(f'Using device: {device}')"
   ]
  },
  {
   "cell_type": "code",
   "execution_count": 2,
   "id": "be0370b8",
   "metadata": {},
   "outputs": [],
   "source": []
  },
  {
   "cell_type": "code",
   "execution_count": 7,
   "id": "254acf4b",
   "metadata": {},
   "outputs": [],
   "source": [
    "def predict_single_image(model: nn.Module, test_set, device: torch.device) -> str:\n",
    "    \"\"\"\n",
    "    Make prediction for a single image.\n",
    "\n",
    "    Args:\n",
    "        model: Trained PyTorch model\n",
    "        test_set: Dataset containing test images\n",
    "        label_conversion_dict: Dictionary mapping numeric labels to class names\n",
    "        device: Device to run the model on\n",
    "\n",
    "    Returns:\n",
    "        Predicted class name\n",
    "    \"\"\"\n",
    "    \n",
    "    labels = ['glioma', 'meningioma', 'notumor', 'pituitary']\n",
    "\n",
    "    label_conversion_dict = {\n",
    "            'glioma': 0,\n",
    "            'meningioma': 1,\n",
    "            'notumor': 2,\n",
    "            'pituitary': 3,\n",
    "            0: 'glioma',\n",
    "            1: 'meningioma',\n",
    "            2: 'notumor',\n",
    "            3: 'pituitary'\n",
    "        } \n",
    "    \n",
    "    sample_idx = np.random.randint(0, len(test_set))\n",
    "    image, label = test_set[sample_idx]\n",
    "\n",
    "    model.eval()\n",
    "    with torch.no_grad():\n",
    "        image_tensor = image.unsqueeze(0).to(device)\n",
    "        output = model(image_tensor)\n",
    "        _, pred = torch.max(output, 1)\n",
    "        predicted_class = label_conversion_dict[pred.item()]\n",
    "\n",
    "    # Prepare image for display\n",
    "    image_to_show = image.numpy().squeeze()  # Remove batch dim and convert to numpy\n",
    "    \n",
    "    plt.figure(figsize=(6, 6))\n",
    "    plt.imshow(image_to_show, cmap='gray')\n",
    "    plt.title(f'True Label: {label_conversion_dict[label]}')\n",
    "    plt.axis('off')\n",
    "    plt.show()\n",
    "    print(f'Predicted Class: {predicted_class}')\n",
    "    \n",
    "    return predicted_class"
   ]
  },
  {
   "cell_type": "code",
   "execution_count": 4,
   "id": "a48e2953",
   "metadata": {},
   "outputs": [],
   "source": [
    "def conf_matrix(model:nn.Module, test_set):\n",
    "    \n",
    "    device = torch.device('cuda')\n",
    "\n",
    "    true_labels = []\n",
    "    predicted_labels = []\n",
    "\n",
    "    model.eval()\n",
    "    with torch.no_grad():\n",
    "        for image, label in test_set:\n",
    "            image_tensor = image.unsqueeze(0).to(device)\n",
    "            output = model(image_tensor)\n",
    "            _, pred = torch.max(output, 1)\n",
    "        \n",
    "            true_labels.append(label)  # Keep as numeric\n",
    "            predicted_labels.append(pred.item())  # Keep as numeric\n",
    "\n",
    "    # Convert numeric labels to class names for the confusion matrix\n",
    "    true_labels_names = [label_conversion_dict[l] for l in true_labels]\n",
    "    predicted_labels_names = [label_conversion_dict[l] for l in predicted_labels]\n",
    "\n",
    "    # Generate confusion matrix\n",
    "    conf_matrix = confusion_matrix(true_labels_names, predicted_labels_names, labels=labels)\n",
    "\n",
    "    # Plot\n",
    "    plt.figure(figsize=(6, 6))\n",
    "    sns.heatmap(conf_matrix, annot=True, fmt='d', cmap='Blues', \n",
    "            xticklabels=labels, yticklabels=labels)\n",
    "    plt.xlabel('Predicted Labels')\n",
    "    plt.ylabel('True Labels')\n",
    "    plt.title('Confusion Matrix')\n",
    "    plt.xticks(rotation=45)\n",
    "    plt.yticks(rotation=0)\n",
    "    plt.tight_layout()\n",
    "    plt.show()\n",
    "\n",
    "    # Return\n",
    "    return conf_matrix"
   ]
  },
  {
   "cell_type": "code",
   "execution_count": 6,
   "id": "0526e8ea",
   "metadata": {},
   "outputs": [],
   "source": [
    "def summary(conf_matrix):\n",
    "    \n",
    "    print(\"Summary: \\n\")\n",
    "    print(\"We have \\n\")\n",
    "\n",
    "    pred_percent = [0,0,0,0]\n",
    "\n",
    "    for i in range(4):\n",
    "        pred_total = sum(conf_matrix[:,i])\n",
    "        pred_percent[i] = conf_matrix[i,i]/pred_total\n",
    "        print(f\"{conf_matrix[i,i]/pred_total:.2%} accuracy rate for predicting {labels[i]}.\") \n",
    "        print(f\"If {labels[i]} is predicted, the true class of the predicted image could be:\")\n",
    "        for j in range(4):\n",
    "            if j != i:\n",
    "                pred_percent[j] = conf_matrix[j,i]/pred_total\n",
    "                print(f\"{labels[j]} with {pred_percent[j]:.2%} chance\")\n",
    "        print(\"\\n\")"
   ]
  },
  {
   "cell_type": "code",
   "execution_count": null,
   "id": "45b44e59",
   "metadata": {},
   "outputs": [],
   "source": []
  }
 ],
 "metadata": {
  "kernelspec": {
   "display_name": "Python 3 (ipykernel)",
   "language": "python",
   "name": "python3"
  },
  "language_info": {
   "codemirror_mode": {
    "name": "ipython",
    "version": 3
   },
   "file_extension": ".py",
   "mimetype": "text/x-python",
   "name": "python",
   "nbconvert_exporter": "python",
   "pygments_lexer": "ipython3",
   "version": "3.11.1"
  }
 },
 "nbformat": 4,
 "nbformat_minor": 5
}
