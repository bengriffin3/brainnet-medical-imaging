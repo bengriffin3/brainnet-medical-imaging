{
 "cells": [
  {
   "cell_type": "code",
   "execution_count": null,
   "id": "22330892",
   "metadata": {},
   "outputs": [],
   "source": [
    "import os\n",
    "# from google.colab import drive\n",
    "\n",
    "import torch\n",
    "import torch.nn as nn\n",
    "from typing import List\n",
    "import matplotlib.pyplot as plt\n",
    "import numpy as np\n",
    "\n",
    "# Set up device\n",
    "device = torch.device('cuda' if torch.cuda.is_available() else 'cpu')\n",
    "print(f'Using device: {device}')"
   ]
  },
  {
   "cell_type": "code",
   "execution_count": null,
   "id": "d79e40f0",
   "metadata": {},
   "outputs": [],
   "source": [
    "os.chdir('/Users/kose/Documents/GitHub/brain_net/brainnet-medical-imaging/src')  # Folder containing data.py\n",
    "from config.data import data_setup, data_setup, data_loader, display_sample\n",
    "from models.cnn import CNNModel\n",
    "from utils.training import train_epoch, validate, train_model, plot_training_history\n",
    "from utils.prediction import predict_single_image, conf_matrix, summary"
   ]
  },
  {
   "cell_type": "code",
   "execution_count": null,
   "id": "e4301d6d",
   "metadata": {},
   "outputs": [],
   "source": [
    "# Load datasets and data loaders\n",
    "\n",
    "train_set, test_set = data_setup()\n",
    "train_loader, test_loader = data_loader(train_set, test_set)"
   ]
  },
  {
   "cell_type": "code",
   "execution_count": null,
   "id": "82b7bba0",
   "metadata": {},
   "outputs": [],
   "source": [
    "# Display a sample of images from train_set\n",
    "display_sample(train_set)"
   ]
  },
  {
   "cell_type": "code",
   "execution_count": null,
   "id": "b6b76707",
   "metadata": {},
   "outputs": [],
   "source": [
    "# Train the model\n",
    "model_cnn = CNNModel()\n",
    "history = train_model(\n",
    "    model=model_cnn,\n",
    "    train_loader=train_loader,\n",
    "    val_loader=test_loader,\n",
    "    num_epochs=40,\n",
    "    device = torch.device('cuda')\n",
    ")"
   ]
  },
  {
   "cell_type": "code",
   "execution_count": null,
   "id": "7d2b81d9",
   "metadata": {},
   "outputs": [],
   "source": [
    "# Plot training history\n",
    "\n",
    "plot_training_history(history)"
   ]
  },
  {
   "cell_type": "code",
   "execution_count": null,
   "id": "78e834e2",
   "metadata": {},
   "outputs": [],
   "source": [
    "# Display a prediction of random image in test_set\n",
    "\n",
    "predict_single_image(model_cnn, test_set, device=device)"
   ]
  },
  {
   "cell_type": "code",
   "execution_count": null,
   "id": "2cd85838",
   "metadata": {},
   "outputs": [],
   "source": [
    "# Get the confusion matrix\n",
    "\n",
    "conf_matrix = conf_matrix(model_cnn, test_set)"
   ]
  },
  {
   "cell_type": "code",
   "execution_count": null,
   "id": "a2b88ad3",
   "metadata": {},
   "outputs": [],
   "source": [
    "# Summary of the confusion matrix\n",
    "\n",
    "summary(conf_matrix)"
   ]
  },
  {
   "cell_type": "code",
   "execution_count": null,
   "id": "8b414e7f",
   "metadata": {},
   "outputs": [],
   "source": []
  }
 ],
 "metadata": {
  "kernelspec": {
   "display_name": "Python 3 (ipykernel)",
   "language": "python",
   "name": "python3"
  },
  "language_info": {
   "codemirror_mode": {
    "name": "ipython",
    "version": 3
   },
   "file_extension": ".py",
   "mimetype": "text/x-python",
   "name": "python",
   "nbconvert_exporter": "python",
   "pygments_lexer": "ipython3",
   "version": "3.11.1"
  }
 },
 "nbformat": 4,
 "nbformat_minor": 5
}
