{
 "cells": [
  {
   "cell_type": "markdown",
   "id": "da377b13",
   "metadata": {},
   "source": [
    "# Brain Tumor Classification - Baseline CNN Model\n",
    "\n",
    "This notebook implements a baseline CNN model for brain tumor classification using PyTorch. We'll use the preprocessed brain tumor MRI dataset to train and evaluate a simple CNN architecture.\n",
    "\n",
    "## 1. Setup and Imports"
   ]
  },
  {
   "cell_type": "code",
   "execution_count": 1,
   "id": "aa6a473d",
   "metadata": {},
   "outputs": [
    {
     "name": "stdout",
     "output_type": "stream",
     "text": [
      "Using device: cpu\n"
     ]
    }
   ],
   "source": [
    "# Data processing\n",
    "import numpy as np\n",
    "import os\n",
    "\n",
    "# PyTorch imports\n",
    "import torch\n",
    "\n",
    "# Set random seeds for reproducibility\n",
    "torch.manual_seed(42)\n",
    "np.random.seed(42)\n",
    "\n",
    "# Set up device\n",
    "device = torch.device('cuda' if torch.cuda.is_available() else 'cpu')\n",
    "print(f'Using device: {device}')"
   ]
  },
  {
   "cell_type": "code",
   "execution_count": null,
   "id": "de8024b3",
   "metadata": {},
   "outputs": [],
   "source": [
    "from google.colab import drive\n",
    "drive.mount('/content/gdrive')"
   ]
  },
  {
   "cell_type": "code",
   "execution_count": null,
   "id": "fd0500f9",
   "metadata": {},
   "outputs": [],
   "source": [
    "# Use os.path.join to avoid manual path issues\n",
    "path = os.path.join('gdrive', 'My Drive', 'Erdos', 'brainnet-medical-imaging', 'src')\n",
    "\n",
    "# Change directory\n",
    "# os.getcwd()\n",
    "os.chdir(path)"
   ]
  },
  {
   "cell_type": "code",
   "execution_count": null,
   "id": "f302ac2a",
   "metadata": {},
   "outputs": [],
   "source": [
    "# Use this if running locally\n",
    "# import our own modules\n",
    "# import sys\n",
    "# sys.path.append('../src')  # Add the src directory to the Python path\n",
    "\n",
    "\n",
    "# import data\n",
    "from config.data import data_setup, data_loader\n",
    "from models.cnn import BrainTumorCNN #CNNModel\n",
    "from utils.prediction import train_model, predict_single_image, conf_matrix, summary\n",
    "from utils.visualization import plot_training_history"
   ]
  },
  {
   "cell_type": "markdown",
   "id": "7667c5e3",
   "metadata": {},
   "source": [
    "## 2. Data Loading and Preprocessing"
   ]
  },
  {
   "cell_type": "code",
   "execution_count": null,
   "id": "860a5a6b",
   "metadata": {},
   "outputs": [],
   "source": [
    "# Load data and data_loaders\n",
    "train_set, test_set, label_conversion_dict = data_setup()"
   ]
  },
  {
   "cell_type": "code",
   "execution_count": null,
   "id": "811fff39",
   "metadata": {},
   "outputs": [],
   "source": [
    "train_loader, test_loader = data_loader(train_set, test_set)\n",
    "\n",
    "# Extract the class labels from the dictionary keys\n",
    "class_labels = list(label_conversion_dict.keys())[:4]"
   ]
  },
  {
   "cell_type": "markdown",
   "id": "9738f3e5",
   "metadata": {},
   "source": [
    "## 3. Model Architecture"
   ]
  },
  {
   "cell_type": "markdown",
   "id": "d0f6d2d6",
   "metadata": {},
   "source": [
    "Our baseline model is a simple CNN with four convolutional blocks and two fully connected layers.\n",
    "\n",
    "*   Convolutional Blocks: Each block (Conv → BatchNorm → LeakyReLU → MaxPool) progressively extracts features and reduces image dimensions\n",
    "*   Fully Connected Layers & Dropout: The FC layers, with dropout in between, help the model generalize and prevent overfitting\n",
    "*   Overall: This design is lightweight and fast to train, providing a solid baseline to compare against more complex or pre-trained architectures in the future"
   ]
  },
  {
   "cell_type": "code",
   "execution_count": null,
   "id": "d82f1897",
   "metadata": {},
   "outputs": [],
   "source": [
    "# Initialize model\n",
    "model_cnn = BrainTumorCNN().to(device)\n",
    "print(model_cnn)"
   ]
  },
  {
   "cell_type": "markdown",
   "id": "db38e4bf",
   "metadata": {},
   "source": [
    "## 4. Model Training and Evaluation\n",
    "\n",
    "Here we initialize our model, loss function, optimizer, and learning rate scheduler. We then train the model using our defined training function."
   ]
  },
  {
   "cell_type": "code",
   "execution_count": null,
   "id": "20135b43",
   "metadata": {},
   "outputs": [],
   "source": [
    "# Train the model\n",
    "history = train_model(\n",
    "    model=model_cnn,\n",
    "    train_loader=train_loader,\n",
    "    val_loader=test_loader,\n",
    "    num_epochs=10\n",
    ")"
   ]
  },
  {
   "cell_type": "markdown",
   "id": "fc626b08",
   "metadata": {},
   "source": [
    "## 5. Visualizing Results\n",
    "\n",
    "We visualize the training and validation metrics to understand how our model performs over time. This includes:\n",
    "- Training and validation loss curves\n",
    "- Validation accuracy progression"
   ]
  },
  {
   "cell_type": "code",
   "execution_count": null,
   "id": "23ac14a7",
   "metadata": {},
   "outputs": [],
   "source": [
    "# Plot training history\n",
    "plot_training_history(history)"
   ]
  },
  {
   "cell_type": "markdown",
   "id": "2c2ab3d6",
   "metadata": {},
   "source": [
    "We now test our model on an example image from the test set and visualize the results. This helps us understand how the model performs on specific examples."
   ]
  },
  {
   "cell_type": "code",
   "execution_count": 2,
   "id": "f5ddc40b",
   "metadata": {},
   "outputs": [
    {
     "ename": "NameError",
     "evalue": "name 'predict_single_image' is not defined",
     "output_type": "error",
     "traceback": [
      "\u001b[0;31m---------------------------------------------------------------------------\u001b[0m",
      "\u001b[0;31mNameError\u001b[0m                                 Traceback (most recent call last)",
      "Cell \u001b[0;32mIn[2], line 2\u001b[0m\n\u001b[1;32m      1\u001b[0m \u001b[38;5;66;03m# Example prediction\u001b[39;00m\n\u001b[0;32m----> 2\u001b[0m predicted_class \u001b[38;5;241m=\u001b[39m \u001b[43mpredict_single_image\u001b[49m(model_cnn, test_set, device)\n\u001b[1;32m      3\u001b[0m \u001b[38;5;28mprint\u001b[39m(\u001b[38;5;124mf\u001b[39m\u001b[38;5;124m'\u001b[39m\u001b[38;5;124mPredicted Class: \u001b[39m\u001b[38;5;132;01m{\u001b[39;00mpredicted_class\u001b[38;5;132;01m}\u001b[39;00m\u001b[38;5;124m'\u001b[39m)\n",
      "\u001b[0;31mNameError\u001b[0m: name 'predict_single_image' is not defined"
     ]
    }
   ],
   "source": [
    "# Example prediction\n",
    "predicted_class = predict_single_image(model_cnn, test_set, device)\n",
    "print(f'Predicted Class: {predicted_class}')"
   ]
  },
  {
   "cell_type": "markdown",
   "id": "55f3d4b5",
   "metadata": {},
   "source": [
    "We can now plot the confusion matrix of our predictions to understand if our model performs well/poorly for certain classes."
   ]
  },
  {
   "cell_type": "code",
   "execution_count": 3,
   "id": "a6825ef2",
   "metadata": {},
   "outputs": [
    {
     "ename": "NameError",
     "evalue": "name 'conf_matrix' is not defined",
     "output_type": "error",
     "traceback": [
      "\u001b[0;31m---------------------------------------------------------------------------\u001b[0m",
      "\u001b[0;31mNameError\u001b[0m                                 Traceback (most recent call last)",
      "Cell \u001b[0;32mIn[3], line 1\u001b[0m\n\u001b[0;32m----> 1\u001b[0m confusion_matrix \u001b[38;5;241m=\u001b[39m \u001b[43mconf_matrix\u001b[49m(model_cnn, test_set, label_conversion_dict)\n",
      "\u001b[0;31mNameError\u001b[0m: name 'conf_matrix' is not defined"
     ]
    }
   ],
   "source": [
    "confusion_matrix = conf_matrix(model_cnn, test_set, label_conversion_dict)"
   ]
  },
  {
   "cell_type": "code",
   "execution_count": null,
   "id": "323d8acd",
   "metadata": {},
   "outputs": [],
   "source": [
    "summary(confusion_matrix, class_labels)"
   ]
  }
 ],
 "metadata": {
  "kernelspec": {
   "display_name": "brainnet-env",
   "language": "python",
   "name": "python3"
  },
  "language_info": {
   "codemirror_mode": {
    "name": "ipython",
    "version": 3
   },
   "file_extension": ".py",
   "mimetype": "text/x-python",
   "name": "python",
   "nbconvert_exporter": "python",
   "pygments_lexer": "ipython3",
   "version": "3.8.8"
  }
 },
 "nbformat": 4,
 "nbformat_minor": 5
}
